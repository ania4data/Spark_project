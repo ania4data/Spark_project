{
 "cells": [
  {
   "cell_type": "markdown",
   "metadata": {},
   "source": [
    "# Linear Regression Quiz\n",
    "Use this Jupyter notebook to find the answer to the quiz in the previous section. There is an answer key in the next part of the lesson."
   ]
  },
  {
   "cell_type": "code",
   "execution_count": 1,
   "metadata": {},
   "outputs": [],
   "source": [
    "from pyspark.sql import SparkSession\n",
    "from pyspark.ml.feature import RegexTokenizer, CountVectorizer, IDF, StringIndexer\n",
    "from pyspark.ml.feature import RegexTokenizer, VectorAssembler, Normalizer, StandardScaler, MinMaxScaler\n",
    "from pyspark.sql.functions import udf, sum as Fsum, pow as Fpow, col, sqrt as Fsqrt\n",
    "from pyspark.sql.types import IntegerType, FloatType\n",
    "import numpy as np\n",
    "import re\n",
    "from pyspark.sql import functions as F\n",
    "from pyspark.ml.linalg import Vectors\n",
    "from pyspark.ml.regression import LinearRegression\n",
    "from pyspark.ml.classification import LogisticRegression"
   ]
  },
  {
   "cell_type": "code",
   "execution_count": 2,
   "metadata": {},
   "outputs": [],
   "source": [
    "spark = SparkSession.builder \\\n",
    "    .master(\"local\") \\\n",
    "    .appName(\"Creating Features\") \\\n",
    "    .getOrCreate()"
   ]
  },
  {
   "cell_type": "markdown",
   "metadata": {},
   "source": [
    "### Read Dataset"
   ]
  },
  {
   "cell_type": "code",
   "execution_count": 41,
   "metadata": {},
   "outputs": [],
   "source": [
    "stack_overflow_data = 'Train_onetag_small.json'"
   ]
  },
  {
   "cell_type": "code",
   "execution_count": 42,
   "metadata": {},
   "outputs": [
    {
     "data": {
      "text/plain": [
       "DataFrame[Body: string, Id: bigint, Tags: string, Title: string, oneTag: string]"
      ]
     },
     "execution_count": 42,
     "metadata": {},
     "output_type": "execute_result"
    }
   ],
   "source": [
    "df = spark.read.json(stack_overflow_data)\n",
    "df.persist()"
   ]
  },
  {
   "cell_type": "code",
   "execution_count": 43,
   "metadata": {},
   "outputs": [
    {
     "data": {
      "text/plain": [
       "[Row(Body=\"<p>I'd like to check if an uploaded file is an image file (e.g png, jpg, jpeg, gif, bmp) or another file. The problem is that I'm using Uploadify to upload the files, which changes the mime type and gives a 'text/octal' or something as the mime type, no matter which file type you upload.</p>\\n\\n<p>Is there a way to check if the uploaded file is an image apart from checking the file extension using PHP?</p>\\n\", Id=1, Tags='php image-processing file-upload upload mime-types', Title='How to check if an uploaded file is an image without mime type?', oneTag='php')]"
      ]
     },
     "execution_count": 43,
     "metadata": {},
     "output_type": "execute_result"
    }
   ],
   "source": [
    "df.take(1)"
   ]
  },
  {
   "cell_type": "markdown",
   "metadata": {},
   "source": [
    "### Build Description Length Features"
   ]
  },
  {
   "cell_type": "code",
   "execution_count": 44,
   "metadata": {},
   "outputs": [],
   "source": [
    "df = df.withColumn(\"Desc\", F.concat(F.col(\"Title\"), F.lit(' '), F.col(\"Body\")))"
   ]
  },
  {
   "cell_type": "code",
   "execution_count": 45,
   "metadata": {},
   "outputs": [],
   "source": [
    "regexTokenizer = RegexTokenizer(inputCol=\"Desc\", outputCol=\"words\", pattern=\"\\\\W\")\n",
    "df = regexTokenizer.transform(df)\n",
    "body_length = udf(lambda x: len(x), IntegerType())\n",
    "split_text = udf(lambda x: x.split(\" \"), IntegerType())\n",
    "df = df.withColumn(\"DescLength\", body_length(df.words))\n",
    "df = df.withColumn(\"TagLength\", body_length(split_text(df.Tags)))"
   ]
  },
  {
   "cell_type": "code",
   "execution_count": 46,
   "metadata": {},
   "outputs": [
    {
     "name": "stdout",
     "output_type": "stream",
     "text": [
      "+--------------------+----------+---------+\n",
      "|               words|DescLength|TagLength|\n",
      "+--------------------+----------+---------+\n",
      "|[how, to, check, ...|        96|        5|\n",
      "|[how, can, i, pre...|        83|        1|\n",
      "|[r, error, invali...|      3168|        3|\n",
      "|[how, do, i, repl...|       124|        3|\n",
      "|[how, to, modify,...|       154|        3|\n",
      "|[setting, proxy, ...|        75|        3|\n",
      "|[how, to, draw, b...|       121|        1|\n",
      "|[how, to, fetch, ...|       170|        3|\n",
      "|[net, library, fo...|       107|        3|\n",
      "|[sql, server, pro...|        74|        5|\n",
      "|[how, do, commerc...|       145|        3|\n",
      "|[crappy, random, ...|       148|        3|\n",
      "|[migrate, from, m...|        24|        3|\n",
      "|[where, can, i, f...|        49|        3|\n",
      "|[can, i, stop, wi...|        48|        1|\n",
      "|[php, framework, ...|       389|        3|\n",
      "|[what, creates, r...|       380|        2|\n",
      "|[wpf, multiple, c...|       216|        2|\n",
      "|[play, framework,...|       123|        4|\n",
      "|[creating, a, rep...|       404|        5|\n",
      "+--------------------+----------+---------+\n",
      "only showing top 20 rows\n",
      "\n"
     ]
    }
   ],
   "source": [
    "df.select([\"words\", \"DescLength\", \"TagLength\"]).show()"
   ]
  },
  {
   "cell_type": "code",
   "execution_count": 47,
   "metadata": {},
   "outputs": [
    {
     "name": "stdout",
     "output_type": "stream",
     "text": [
      "+---------+\n",
      "|TagLength|\n",
      "+---------+\n",
      "|        1|\n",
      "|        3|\n",
      "|        5|\n",
      "|        4|\n",
      "|        2|\n",
      "+---------+\n",
      "\n"
     ]
    }
   ],
   "source": [
    "df.select(\"TagLength\").dropDuplicates().show()"
   ]
  },
  {
   "cell_type": "code",
   "execution_count": 48,
   "metadata": {},
   "outputs": [
    {
     "name": "stdout",
     "output_type": "stream",
     "text": [
      "+--------------------+----------+--------+---------+\n",
      "|               words|DescLength| DescVec|TagLength|\n",
      "+--------------------+----------+--------+---------+\n",
      "|[how, to, check, ...|        96|  [96.0]|        5|\n",
      "|[how, can, i, pre...|        83|  [83.0]|        1|\n",
      "|[r, error, invali...|      3168|[3168.0]|        3|\n",
      "|[how, do, i, repl...|       124| [124.0]|        3|\n",
      "|[how, to, modify,...|       154| [154.0]|        3|\n",
      "|[setting, proxy, ...|        75|  [75.0]|        3|\n",
      "|[how, to, draw, b...|       121| [121.0]|        1|\n",
      "|[how, to, fetch, ...|       170| [170.0]|        3|\n",
      "|[net, library, fo...|       107| [107.0]|        3|\n",
      "|[sql, server, pro...|        74|  [74.0]|        5|\n",
      "|[how, do, commerc...|       145| [145.0]|        3|\n",
      "|[crappy, random, ...|       148| [148.0]|        3|\n",
      "|[migrate, from, m...|        24|  [24.0]|        3|\n",
      "|[where, can, i, f...|        49|  [49.0]|        3|\n",
      "|[can, i, stop, wi...|        48|  [48.0]|        1|\n",
      "|[php, framework, ...|       389| [389.0]|        3|\n",
      "|[what, creates, r...|       380| [380.0]|        2|\n",
      "|[wpf, multiple, c...|       216| [216.0]|        2|\n",
      "|[play, framework,...|       123| [123.0]|        4|\n",
      "|[creating, a, rep...|       404| [404.0]|        5|\n",
      "+--------------------+----------+--------+---------+\n",
      "only showing top 20 rows\n",
      "\n"
     ]
    }
   ],
   "source": [
    "assembler = VectorAssembler(inputCols=[\"DescLength\"], outputCol=\"DescVec\")\n",
    "df = assembler.transform(df)\n",
    "df.select([\"words\", \"DescLength\", \"DescVec\", \"TagLength\"]).show()"
   ]
  },
  {
   "cell_type": "code",
   "execution_count": 51,
   "metadata": {},
   "outputs": [
    {
     "data": {
      "image/png": "[encoded data removed]",
      "text/plain": [
       "<matplotlib.figure.Figure at 0x7fea4efcb2b0>"
      ]
     },
     "metadata": {
      "needs_background": "light"
     },
     "output_type": "display_data"
    }
   ],
   "source": [
    "import matplotlib.pyplot as plt\n",
    "plt.scatter(df.select(\"DescLength\").collect(), df.select(\"TagLength\").collect())\n",
    "plt.show()"
   ]
  },
  {
   "cell_type": "markdown",
   "metadata": {},
   "source": [
    "# Question\n",
    "Build a linear regression model using the length of the combined Title + Body fields. What is the value of r^2 when fitting a model with `maxIter=5, regParam=0.0, fitIntercept=False, solver=\"normal\"`?"
   ]
  },
  {
   "cell_type": "code",
   "execution_count": 58,
   "metadata": {},
   "outputs": [],
   "source": [
    "data = df.select(col(\"DescVec\").alias(\"features\"), col(\"TagLength\").alias(\"label\"))"
   ]
  },
  {
   "cell_type": "code",
   "execution_count": 59,
   "metadata": {},
   "outputs": [
    {
     "name": "stdout",
     "output_type": "stream",
     "text": [
      "+--------+-----+\n",
      "|features|label|\n",
      "+--------+-----+\n",
      "|  [96.0]|    5|\n",
      "|  [83.0]|    1|\n",
      "|[3168.0]|    3|\n",
      "| [124.0]|    3|\n",
      "| [154.0]|    3|\n",
      "|  [75.0]|    3|\n",
      "| [121.0]|    1|\n",
      "| [170.0]|    3|\n",
      "| [107.0]|    3|\n",
      "|  [74.0]|    5|\n",
      "| [145.0]|    3|\n",
      "| [148.0]|    3|\n",
      "|  [24.0]|    3|\n",
      "|  [49.0]|    3|\n",
      "|  [48.0]|    1|\n",
      "| [389.0]|    3|\n",
      "| [380.0]|    2|\n",
      "| [216.0]|    2|\n",
      "| [123.0]|    4|\n",
      "| [404.0]|    5|\n",
      "+--------+-----+\n",
      "only showing top 20 rows\n",
      "\n"
     ]
    }
   ],
   "source": [
    "data.show()"
   ]
  },
  {
   "cell_type": "code",
   "execution_count": 60,
   "metadata": {},
   "outputs": [],
   "source": [
    "lr = LinearRegression(maxIter=5, regParam=0.0, fitIntercept=False, solver=\"normal\")"
   ]
  },
  {
   "cell_type": "code",
   "execution_count": 61,
   "metadata": {},
   "outputs": [],
   "source": [
    "#LinearRegression(featuresCol='features', labelCol='label'\n",
    "model = lr.fit(data)"
   ]
  },
  {
   "cell_type": "code",
   "execution_count": 62,
   "metadata": {},
   "outputs": [
    {
     "data": {
      "text/plain": [
       "DenseVector([0.0079])"
      ]
     },
     "execution_count": 62,
     "metadata": {},
     "output_type": "execute_result"
    }
   ],
   "source": [
    "model.coefficients"
   ]
  },
  {
   "cell_type": "code",
   "execution_count": 63,
   "metadata": {},
   "outputs": [],
   "source": [
    "model_summary = model.summary"
   ]
  },
  {
   "cell_type": "code",
   "execution_count": 65,
   "metadata": {},
   "outputs": [
    {
     "data": {
      "text/plain": [
       "0.4455149596308462"
      ]
     },
     "execution_count": 65,
     "metadata": {},
     "output_type": "execute_result"
    }
   ],
   "source": [
    "model_summary.r2"
   ]
  },
  {
   "cell_type": "code",
   "execution_count": 67,
   "metadata": {},
   "outputs": [],
   "source": [
    "# lr2 = LinearRegression(maxIter=5, regParam=0.0, fitIntercept=False, solver=\"normal\")\n",
    "# data2 = df.select(col(\"DescLength\").alias(\"features\"), col(\"TagLength\").alias(\"label\"))\n",
    "# model2 = lr.fit(data2)\n",
    "# 'requirement failed: Column features must be of type org.apache.spark.ml.linalg.VectorUDT@3bfc3ba7 but was actually IntegerType.'"
   ]
  },
  {
   "cell_type": "code",
   "execution_count": null,
   "metadata": {},
   "outputs": [],
   "source": []
  }
 ],
 "metadata": {
  "kernelspec": {
   "display_name": "Python 3",
   "language": "python",
   "name": "python3"
  },
  "language_info": {
   "codemirror_mode": {
    "name": "ipython",
    "version": 3
   },
   "file_extension": ".py",
   "mimetype": "text/x-python",
   "name": "python",
   "nbconvert_exporter": "python",
   "pygments_lexer": "ipython3",
   "version": "3.6.3"
  }
 },
 "nbformat": 4,
 "nbformat_minor": 2
}
